{
  "nbformat": 4,
  "nbformat_minor": 0,
  "metadata": {
    "colab": {
      "provenance": []
    },
    "kernelspec": {
      "name": "python3",
      "display_name": "Python 3"
    },
    "language_info": {
      "name": "python"
    }
  },
  "cells": [
    {
      "cell_type": "markdown",
      "source": [
        "# **PARCIAL DE INTELIGENCIA ARTIFICIAL**\n",
        "1.   Luisa Fernanda Monsalve Serrano\n",
        "2.   Paula Andrea Caicedo Escobar\n",
        "\n",
        "\n",
        "**PRESENTACIÓN DE LA INFORMACIÓN**\n",
        "\n",
        "La base de datos esta compuesta de 18 grabaciones de ECG, de pacientes remitidos al \"the Arrhythmia Laboratory\" del Hospital Beth Israel de Boston (actual Centro Médico Beth Israel Deaconess). Los pacientes incluidos en este conjunto de datos no presentaban arritmias significativas; incluyen 5 hombres, de entre 26 y 45 años, y 13 mujeres, de entre 20 y 50 años.\n",
        "\n",
        "\n",
        "Del conjunto de datos obtenidos de la base de datos, lo primero que se hace es la instalación del paquete que permite leer las señales cardiacas, asi mismo se instalan las librerias necesarias para el desarrollo del modelo.\n",
        "\n",
        "\n",
        " \n",
        "\n",
        "\n",
        "\n"
      ],
      "metadata": {
        "id": "uDIAazvlj2bZ"
      }
    },
    {
      "cell_type": "markdown",
      "source": [
        "# **INSTALACIÓN DE PAQUETES**\n",
        "\n",
        "\n",
        "*   Para el manejo de señales ECG se instala *wfdb*\n",
        "*   Para la creación y estudio del modelo librerias de *sklearn*\n",
        "*   Para la creación del dataframa la libreria*pandas*\n",
        "\n",
        "\n",
        "\n",
        "---\n",
        "\n",
        "\n",
        "\n"
      ],
      "metadata": {
        "id": "7BseK1gYwD-o"
      }
    },
    {
      "cell_type": "code",
      "source": [
        "pip install wfdb"
      ],
      "metadata": {
        "colab": {
          "base_uri": "https://localhost:8080/"
        },
        "id": "-onUAao8k4lQ",
        "outputId": "97900ddb-c757-4dd2-ad61-8bbec13c83f6"
      },
      "execution_count": 1,
      "outputs": [
        {
          "output_type": "stream",
          "name": "stdout",
          "text": [
            "Looking in indexes: https://pypi.org/simple, https://us-python.pkg.dev/colab-wheels/public/simple/\n",
            "Collecting wfdb\n",
            "  Downloading wfdb-4.0.0-py3-none-any.whl (161 kB)\n",
            "\u001b[K     |████████████████████████████████| 161 kB 13.5 MB/s \n",
            "\u001b[?25hRequirement already satisfied: requests<3.0.0,>=2.8.1 in /usr/local/lib/python3.7/dist-packages (from wfdb) (2.23.0)\n",
            "Requirement already satisfied: SoundFile<0.12.0,>=0.10.0 in /usr/local/lib/python3.7/dist-packages (from wfdb) (0.11.0)\n",
            "Requirement already satisfied: numpy<2.0.0,>=1.10.1 in /usr/local/lib/python3.7/dist-packages (from wfdb) (1.21.6)\n",
            "Requirement already satisfied: scipy<2.0.0,>=1.0.0 in /usr/local/lib/python3.7/dist-packages (from wfdb) (1.7.3)\n",
            "Requirement already satisfied: pandas<2.0.0,>=1.0.0 in /usr/local/lib/python3.7/dist-packages (from wfdb) (1.3.5)\n",
            "Requirement already satisfied: matplotlib<4.0.0,>=3.2.2 in /usr/local/lib/python3.7/dist-packages (from wfdb) (3.2.2)\n",
            "Requirement already satisfied: cycler>=0.10 in /usr/local/lib/python3.7/dist-packages (from matplotlib<4.0.0,>=3.2.2->wfdb) (0.11.0)\n",
            "Requirement already satisfied: python-dateutil>=2.1 in /usr/local/lib/python3.7/dist-packages (from matplotlib<4.0.0,>=3.2.2->wfdb) (2.8.2)\n",
            "Requirement already satisfied: pyparsing!=2.0.4,!=2.1.2,!=2.1.6,>=2.0.1 in /usr/local/lib/python3.7/dist-packages (from matplotlib<4.0.0,>=3.2.2->wfdb) (3.0.9)\n",
            "Requirement already satisfied: kiwisolver>=1.0.1 in /usr/local/lib/python3.7/dist-packages (from matplotlib<4.0.0,>=3.2.2->wfdb) (1.4.4)\n",
            "Requirement already satisfied: typing-extensions in /usr/local/lib/python3.7/dist-packages (from kiwisolver>=1.0.1->matplotlib<4.0.0,>=3.2.2->wfdb) (4.1.1)\n",
            "Requirement already satisfied: pytz>=2017.3 in /usr/local/lib/python3.7/dist-packages (from pandas<2.0.0,>=1.0.0->wfdb) (2022.6)\n",
            "Requirement already satisfied: six>=1.5 in /usr/local/lib/python3.7/dist-packages (from python-dateutil>=2.1->matplotlib<4.0.0,>=3.2.2->wfdb) (1.15.0)\n",
            "Requirement already satisfied: certifi>=2017.4.17 in /usr/local/lib/python3.7/dist-packages (from requests<3.0.0,>=2.8.1->wfdb) (2022.9.24)\n",
            "Requirement already satisfied: idna<3,>=2.5 in /usr/local/lib/python3.7/dist-packages (from requests<3.0.0,>=2.8.1->wfdb) (2.10)\n",
            "Requirement already satisfied: urllib3!=1.25.0,!=1.25.1,<1.26,>=1.21.1 in /usr/local/lib/python3.7/dist-packages (from requests<3.0.0,>=2.8.1->wfdb) (1.24.3)\n",
            "Requirement already satisfied: chardet<4,>=3.0.2 in /usr/local/lib/python3.7/dist-packages (from requests<3.0.0,>=2.8.1->wfdb) (3.0.4)\n",
            "Requirement already satisfied: cffi>=1.0 in /usr/local/lib/python3.7/dist-packages (from SoundFile<0.12.0,>=0.10.0->wfdb) (1.15.1)\n",
            "Requirement already satisfied: pycparser in /usr/local/lib/python3.7/dist-packages (from cffi>=1.0->SoundFile<0.12.0,>=0.10.0->wfdb) (2.21)\n",
            "Installing collected packages: wfdb\n",
            "Successfully installed wfdb-4.0.0\n"
          ]
        }
      ]
    },
    {
      "cell_type": "code",
      "source": [
        "import wfdb\n",
        "from sklearn.neural_network import MLPClassifier\n",
        "from sklearn.datasets import make_classification\n",
        "from sklearn.model_selection import train_test_split\n",
        "from scipy import stats\n",
        "import numpy as np\n",
        "import pandas as pd\n",
        "import matplotlib.pyplot as plt\n",
        "import seaborn as sns\n",
        "from sklearn.metrics import classification_report\n",
        "from sklearn.metrics import confusion_matrix\n",
        "from sklearn.metrics import accuracy_score\n",
        "from sklearn.metrics import f1_score\n",
        "\n",
        "\n"
      ],
      "metadata": {
        "id": "ttLtzvn7k8QE"
      },
      "execution_count": 2,
      "outputs": []
    },
    {
      "cell_type": "markdown",
      "source": [
        "Para la recolección de datos, se decidio por utilizar para la primera señal del conjunto de datos obtenidos, con el se obtienen mas 400.000 los cuales son registros de latidos y no latidos"
      ],
      "metadata": {
        "id": "MUtXy2GUo7Hz"
      }
    },
    {
      "cell_type": "code",
      "source": [
        "data_1 =  wfdb.rdrecord(\"database/16265\")\n",
        "wfdb.plot_wfdb(data_1)"
      ],
      "metadata": {
        "colab": {
          "base_uri": "https://localhost:8080/",
          "height": 295
        },
        "id": "Foad1vXQqyvc",
        "outputId": "85951b29-b42d-4d83-829f-376757aac733"
      },
      "execution_count": 3,
      "outputs": [
        {
          "output_type": "display_data",
          "data": {
            "text/plain": [
              "<Figure size 432x288 with 2 Axes>"
            ],
            "image/png": "[encoded data removed]"
          },
          "metadata": {
            "needs_background": "light"
          }
        }
      ]
    },
    {
      "cell_type": "markdown",
      "source": [
        "Para identificar las señales que son latidos, se hace la lectura de los ATRm y se hace el conteo de cuantos datos son considerados latidos y cuantos datos exiten en la señal."
      ],
      "metadata": {
        "id": "Q_VBfaFRpUlG"
      }
    },
    {
      "cell_type": "code",
      "execution_count": 4,
      "metadata": {
        "id": "Jqahrk5hs6NJ",
        "colab": {
          "base_uri": "https://localhost:8080/"
        },
        "outputId": "12beafa1-df5f-4c34-d0b4-e3d92b33d8f4"
      },
      "outputs": [
        {
          "output_type": "stream",
          "name": "stdout",
          "text": [
            "[       1       52      129 ... 10247715 10247823 10247936]\n",
            "(100955,)\n",
            "[-0.165 -0.155 -0.195 ... -0.05  -0.05  -0.05 ]\n",
            "(11730944,)\n"
          ]
        }
      ],
      "source": [
        "ATR = wfdb.rdann('database/16265','atr').sample\n",
        "print(ATR)\n",
        "print(ATR.shape)\n",
        "\n",
        "señal = data_1.p_signal\n",
        "registro_1 = señal[:,0]\n",
        "print(registro_1)\n",
        "print(registro_1.shape)"
      ]
    },
    {
      "cell_type": "markdown",
      "source": [
        "Se pudo identificar en primer medida que los cantidad de registros identificados como latidos son 100955, que se encuentra dentro del 11730944 registros de la señal. Por ende, el primero proceso a realizar es hacer la ventana que contiene el latido, para el caso del ejercicio la ventana es de 10 registro, y se hace la prueba con el primer latido de la lista de ART.\n"
      ],
      "metadata": {
        "id": "wBxcyBUeqbdG"
      }
    },
    {
      "cell_type": "code",
      "source": [
        "#EL CONJUNTO DE DATOS QUE ES CONSIDERADO LATIDO\n",
        "N = 10\n",
        "latido = registro_1[ATR[1]-N:ATR[1]+N] #Las caracetristicas se sacan a cada conjunto\n",
        "print(latido)\n",
        "print(latido.shape)\n",
        "plt.plot(latido)"
      ],
      "metadata": {
        "id": "RPjD2DTFpgFN",
        "colab": {
          "base_uri": "https://localhost:8080/",
          "height": 334
        },
        "outputId": "dd3916ad-9de2-4a4c-8fa5-913d571d6889"
      },
      "execution_count": 5,
      "outputs": [
        {
          "output_type": "stream",
          "name": "stdout",
          "text": [
            "[-0.155 -0.205 -0.215 -0.215 -0.165 -0.165 -0.155 -0.615 -0.855 -0.185\n",
            "  1.295  2.575  2.675  2.445  0.735 -0.415 -0.295 -0.285 -0.345 -0.365]\n",
            "(20,)\n"
          ]
        },
        {
          "output_type": "execute_result",
          "data": {
            "text/plain": [
              "[<matplotlib.lines.Line2D at 0x7fc48a76e650>]"
            ]
          },
          "metadata": {},
          "execution_count": 5
        },
        {
          "output_type": "display_data",
          "data": {
            "text/plain": [
              "<Figure size 432x288 with 1 Axes>"
            ],
            "image/png": "[encoded data removed]"
          },
          "metadata": {
            "needs_background": "light"
          }
        }
      ]
    },
    {
      "cell_type": "markdown",
      "source": [
        "Posteriormente, se hace un análisis del conjunto de datos que no es considerado como latino, el tamaño de la ventana es igual, pero el tamaño del conjunto de los datos es mas grande, por ende lo que se hace es dividir ese conjunto en tamaños mas pequeños para que todos esten contenidos en el mismo tamaño de la ventana. "
      ],
      "metadata": {
        "id": "wkvWNeXQq6uF"
      }
    },
    {
      "cell_type": "code",
      "source": [
        "\n",
        "#EL CONJUNTO DE DATOS QUE NO ESE CONSIDERADO LATIDO\n",
        "NN = 10\n",
        "# 10 - 30 -> 16\n",
        "# 30 - 50 -> 16\n",
        "# 45 - len(No_latino)\n",
        "No_latido = registro_1[ATR[1]+NN:ATR[2]-NN]\n",
        "print(No_latido)\n",
        "print(No_latido.shape)\n",
        "\n",
        "l = registro_1[ATR[1]+NN:(ATR[1]+30)]\n",
        "\n",
        "print(l)\n",
        "print(l.shape)\n",
        "\n",
        "x = registro_1[(ATR[1]+30):(ATR[1]+50)]\n",
        "print(x)\n",
        "print(x.shape)\n",
        "\n",
        "y = registro_1[(ATR[1]+50):(ATR[2]-NN)]\n",
        "print(y)\n",
        "print(y.shape)\n",
        "\n",
        "plt.plot(No_latido)"
      ],
      "metadata": {
        "id": "R_kXe27jszxe",
        "colab": {
          "base_uri": "https://localhost:8080/",
          "height": 560
        },
        "outputId": "a06d9f0f-d2e2-4820-e7fd-77d4ff1d53a0"
      },
      "execution_count": 6,
      "outputs": [
        {
          "output_type": "stream",
          "name": "stdout",
          "text": [
            "[-0.345 -0.305 -0.315 -0.305 -0.265 -0.235 -0.265 -0.245 -0.215 -0.195\n",
            " -0.175 -0.185 -0.155 -0.125 -0.145 -0.125 -0.145 -0.155 -0.185 -0.175\n",
            " -0.175 -0.165 -0.165 -0.115 -0.065 -0.095 -0.115 -0.075 -0.115 -0.155\n",
            " -0.105 -0.125 -0.135 -0.125 -0.115 -0.105 -0.135 -0.135 -0.135 -0.145\n",
            " -0.125 -0.115 -0.135 -0.135 -0.165 -0.155 -0.115 -0.085 -0.055 -0.055\n",
            " -0.045  0.065  0.005 -0.015 -0.055 -0.115 -0.135]\n",
            "(57,)\n",
            "[-0.345 -0.305 -0.315 -0.305 -0.265 -0.235 -0.265 -0.245 -0.215 -0.195\n",
            " -0.175 -0.185 -0.155 -0.125 -0.145 -0.125 -0.145 -0.155 -0.185 -0.175]\n",
            "(20,)\n",
            "[-0.175 -0.165 -0.165 -0.115 -0.065 -0.095 -0.115 -0.075 -0.115 -0.155\n",
            " -0.105 -0.125 -0.135 -0.125 -0.115 -0.105 -0.135 -0.135 -0.135 -0.145]\n",
            "(20,)\n",
            "[-0.125 -0.115 -0.135 -0.135 -0.165 -0.155 -0.115 -0.085 -0.055 -0.055\n",
            " -0.045  0.065  0.005 -0.015 -0.055 -0.115 -0.135]\n",
            "(17,)\n"
          ]
        },
        {
          "output_type": "execute_result",
          "data": {
            "text/plain": [
              "[<matplotlib.lines.Line2D at 0x7fc48a4d7250>]"
            ]
          },
          "metadata": {},
          "execution_count": 6
        },
        {
          "output_type": "display_data",
          "data": {
            "text/plain": [
              "<Figure size 432x288 with 1 Axes>"
            ],
            "image/png": "[encoded data removed]"
          },
          "metadata": {
            "needs_background": "light"
          }
        }
      ]
    },
    {
      "cell_type": "markdown",
      "source": [
        "La prueba se realiza con el espacio entre el primer latido y el segundo latino, el conjunto de datos es de 57, entondes se hace una division de 3 partes en donde la ventana de 10 se mueve tres veces, objeniendo 3 registros en donde no se es considerado latido."
      ],
      "metadata": {
        "id": "0CGcmuTPrn0k"
      }
    },
    {
      "cell_type": "markdown",
      "source": [
        "# **EXTRACCIÓN DE CARACTERISTICAS**\n",
        "\n",
        "Para el dataset que se va a realizar se decide sacar el siguiente conjunto de caracteristicas, luego de análisis realizado a los datos obtenidos en los puntos anteriores, las caracteristicas son las siguiente:\n",
        "\n",
        "\n",
        "*   Media\n",
        "*   Varianza\n",
        "*   Desviación Estandar\n",
        "*   Pendiente\n",
        "*   Kuntosis\n",
        "*   Asimetria\n",
        "*   Categoria\n",
        "\n",
        "La función de la pendiente se hace por aparte, diferente porque no se utiliza ningúna libreria.\n",
        "\n",
        "\n"
      ],
      "metadata": {
        "id": "JOqw4wDLsCXz"
      }
    },
    {
      "cell_type": "code",
      "source": [
        "def pendiente(lista):\n",
        "  y1 = np.amin(lista)\n",
        "  y2 = np.amax(lista)\n",
        "  x1 = np.where(lista==y1)[0][0]\n",
        "  x2 = np.where(lista==y2)[0][0]\n",
        "  return((y2-y1)/(x2-x1))\n"
      ],
      "metadata": {
        "id": "uInHE0yxRtna"
      },
      "execution_count": 7,
      "outputs": []
    },
    {
      "cell_type": "markdown",
      "source": [
        "El siguiente proceso es crear el conjunto de datos, para eso se hace una lista de lista y se hace la ventana para cada una de las secciones de la señal, se se sacan las caracteristicas y se hace el mapeo de los datos: \n",
        "\n",
        "\n",
        "*   Los registros que son latidos se mapean a 1\n",
        "*   Los registros que no son latidos se mapean a 0\n",
        "\n"
      ],
      "metadata": {
        "id": "6RySIGGGvyNe"
      }
    },
    {
      "cell_type": "code",
      "source": [
        "registros = []\n",
        "\n",
        "cont = 0\n",
        "for i in range(1,(len(ATR)-1)):\n",
        "\n",
        "  #print(\"i: \", i)\n",
        "  #print(\"i: \", i+1)\n",
        "\n",
        "  #PRIMERO SE HACE EL DEL LATIDO\n",
        "  lat = registro_1[ATR[i]-N:ATR[i]+N]\n",
        "  #print(lat.shape)\n",
        "  \n",
        "\n",
        "  med = np.mean(lat)\n",
        "  var = np.var(lat)\n",
        "  des = np.std(lat)\n",
        "  pen = pendiente(lat)\n",
        "  kur = stats.kurtosis(lat)\n",
        "  asi = stats.skew(lat)\n",
        "\n",
        "  temp = [med,var,des,pen,kur,asi,1]\n",
        "  registros.append(temp)\n",
        "  #print(temp)\n",
        "  cont = cont  + 1 \n",
        "\n",
        "  #LUEGO SE HACE EL DE QUE NO TIENE LATINO\n",
        "  No_lat = registro_1[ATR[i]+NN:ATR[i+1]-NN]\n",
        "  #print(No_lat.shape)\n",
        "\n",
        "\n",
        "\n",
        "  if((No_lat.shape[0])!=0):\n",
        "\n",
        "    if((No_lat.shape[0])>=60):\n",
        "\n",
        "      x = 30\n",
        "      y = NN\n",
        "      t = 0\n",
        "      total = int((No_lat.shape[0]/20))\n",
        "      #print(total)\n",
        "\n",
        "      while(total!= t):\n",
        "        nl1 = registro_1[ATR[i]+y:(ATR[i]+x)]\n",
        "        med = np.mean(nl1)\n",
        "        var = np.var(nl1)\n",
        "        des = np.std(nl1)\n",
        "        pen = pendiente(nl1)\n",
        "        kur = stats.kurtosis(nl1)\n",
        "        asi = stats.skew(nl1)\n",
        "\n",
        "        temp = [med,var,des,pen,kur,asi,0]\n",
        "        registros.append(temp)\n",
        "\n",
        "        y = x\n",
        "        x = x + 20\n",
        "        t = t + 1\n",
        "        cont = cont + 1\n",
        "\n",
        "\n",
        "         \n",
        "\n",
        "      #print(total)\n",
        "\n",
        "         \n",
        "\n",
        "    \n",
        "\n",
        "    if((No_lat.shape[0])>=41 and (No_lat.shape[0])<60):\n",
        "\n",
        "      nl1 = registro_1[ATR[i]+NN:(ATR[i]+30)]\n",
        "      med = np.mean(nl1)\n",
        "      var = np.var(nl1)\n",
        "      des = np.std(nl1)\n",
        "      pen = pendiente(nl1)\n",
        "      kur = stats.kurtosis(nl1)\n",
        "      asi = stats.skew(nl1)\n",
        "\n",
        "      temp = [med,var,des,pen,kur,asi,0]\n",
        "      registros.append(temp)\n",
        "      #print(temp)\n",
        "\n",
        "      nl2 = registro_1[(ATR[i]+30):(ATR[i+1]-NN)]\n",
        "      med = np.mean(nl2)\n",
        "      var = np.var(nl2)\n",
        "      des = np.std(nl2)\n",
        "      pen = pendiente(nl2)\n",
        "      kur = stats.kurtosis(nl2)\n",
        "      asi = stats.skew(nl2)\n",
        "\n",
        "      temp = [med,var,des,pen,kur,asi,0]\n",
        "      registros.append(temp)\n",
        "      #print(temp)\n",
        "\n",
        "      cont = cont + 2\n",
        "\n",
        "    if((No_lat.shape[0])>=10 and (No_lat.shape[0])<=15):\n",
        "\n",
        "      nl1 = registro_1[ATR[i]+NN:(ATR[i+1]-NN)]\n",
        "      med = np.mean(nl1)\n",
        "      var = np.var(nl1)\n",
        "      des = np.std(nl1)\n",
        "      pen = pendiente(nl1)\n",
        "      kur = stats.kurtosis(nl1)\n",
        "      asi = stats.skew(nl1)\n",
        "\n",
        "      temp = [med,var,des,pen,kur,asi,0]\n",
        "      registros.append(temp)\n",
        "      #print(temp)\n",
        "\n",
        "      cont = cont + 1\n",
        "\n",
        "      \n",
        "\n",
        "\n",
        "\n",
        "\n",
        "     \n",
        "\n",
        "     \n",
        "\n",
        "     \n",
        "\n",
        "\n",
        "   \n",
        "\n",
        "\n",
        "   \n",
        "\n",
        "   \n",
        "\n",
        "print(cont)\n",
        "print(len(registros))\n",
        "  \n",
        "\n"
      ],
      "metadata": {
        "id": "atebODqrA5fW",
        "colab": {
          "base_uri": "https://localhost:8080/"
        },
        "outputId": "f4fe5146-cc7b-41a0-f7c4-277d7dd42707"
      },
      "execution_count": 8,
      "outputs": [
        {
          "output_type": "stream",
          "name": "stdout",
          "text": [
            "463285\n",
            "463285\n"
          ]
        }
      ]
    },
    {
      "cell_type": "markdown",
      "source": [
        "Con la finalización del proceso se extraen 463.285 registros, para el dataset. Se definen las columnas y posteriormente se crea el dataframe"
      ],
      "metadata": {
        "id": "lv_RBMVpw1d1"
      }
    },
    {
      "cell_type": "code",
      "source": [
        "columnas =['Media','Varianza','Desviación-Est','Pendiente','Kurtosis','Asimetria','Categoria']\n",
        "df = pd.DataFrame(registros, columns=columnas)\n",
        "print(df)"
      ],
      "metadata": {
        "id": "sROZhFsvlfjT",
        "colab": {
          "base_uri": "https://localhost:8080/"
        },
        "outputId": "a552c936-ab4a-4cb4-96b8-ceadd04a4a6a"
      },
      "execution_count": 9,
      "outputs": [
        {
          "output_type": "stream",
          "name": "stdout",
          "text": [
            "           Media  Varianza  Desviación-Est  Pendiente  Kurtosis  Asimetria  \\\n",
            "0       0.254500  1.132965        1.064408   0.882500  0.529401   1.436697   \n",
            "1      -0.213000  0.004396        0.066302   0.016923 -1.028796  -0.463465   \n",
            "2      -0.106351  0.002531        0.050305   0.007742  2.068057   1.383953   \n",
            "3       0.275500  1.178025        1.085368   0.950000  0.844009   1.516941   \n",
            "4      -0.197500  0.005069        0.071195   0.015000 -1.137250  -0.265244   \n",
            "...          ...       ...             ...        ...       ...        ...   \n",
            "463280  0.192000  1.138301        1.066912   0.947500  0.807112   1.498911   \n",
            "463281 -0.242500  0.010039        0.100194   0.017778 -1.188133   0.322965   \n",
            "463282 -0.136000  0.011929        0.109220  -0.022308 -1.739297   0.050648   \n",
            "463283 -0.233000  0.000156        0.012490   0.008571  3.960552  -1.613599   \n",
            "463284 -0.208000  0.000201        0.014177   0.005455 -0.274894   0.117909   \n",
            "\n",
            "        Categoria  \n",
            "0               1  \n",
            "1               0  \n",
            "2               0  \n",
            "3               1  \n",
            "4               0  \n",
            "...           ...  \n",
            "463280          1  \n",
            "463281          0  \n",
            "463282          0  \n",
            "463283          0  \n",
            "463284          0  \n",
            "\n",
            "[463285 rows x 7 columns]\n"
          ]
        }
      ]
    },
    {
      "cell_type": "code",
      "source": [
        "df = df.drop_duplicates()\n",
        "print(df.shape)"
      ],
      "metadata": {
        "id": "A7HhCyazGMDP",
        "colab": {
          "base_uri": "https://localhost:8080/"
        },
        "outputId": "a3888d81-5fd5-481c-a109-2371220d55da"
      },
      "execution_count": 10,
      "outputs": [
        {
          "output_type": "stream",
          "name": "stdout",
          "text": [
            "(461688, 7)\n"
          ]
        }
      ]
    },
    {
      "cell_type": "markdown",
      "source": [
        "Se hace una verificación de que no exitan valores nulos."
      ],
      "metadata": {
        "id": "XSWBKlHz9ZhI"
      }
    },
    {
      "cell_type": "code",
      "source": [
        "df.isnull().sum()"
      ],
      "metadata": {
        "colab": {
          "base_uri": "https://localhost:8080/"
        },
        "id": "g7VVfg7K9VmR",
        "outputId": "e6077a0a-c8dc-453e-92b5-b4c897ad8ce1"
      },
      "execution_count": 11,
      "outputs": [
        {
          "output_type": "execute_result",
          "data": {
            "text/plain": [
              "Media             0\n",
              "Varianza          0\n",
              "Desviación-Est    0\n",
              "Pendiente         0\n",
              "Kurtosis          0\n",
              "Asimetria         0\n",
              "Categoria         0\n",
              "dtype: int64"
            ]
          },
          "metadata": {},
          "execution_count": 11
        }
      ]
    },
    {
      "cell_type": "code",
      "source": [
        "df[['Media','Categoria']].head(15)"
      ],
      "metadata": {
        "id": "1vXmrDFYhFdU",
        "colab": {
          "base_uri": "https://localhost:8080/",
          "height": 520
        },
        "outputId": "78815a8d-1be2-4ce2-b11f-77dda5780045"
      },
      "execution_count": 12,
      "outputs": [
        {
          "output_type": "execute_result",
          "data": {
            "text/plain": [
              "       Media  Categoria\n",
              "0   0.254500          1\n",
              "1  -0.213000          0\n",
              "2  -0.106351          0\n",
              "3   0.275500          1\n",
              "4  -0.197500          0\n",
              "5  -0.097895          0\n",
              "6   0.301000          1\n",
              "7  -0.207000          0\n",
              "8  -0.118784          0\n",
              "9   0.253500          1\n",
              "10 -0.244500          0\n",
              "11 -0.189500          0\n",
              "12 -0.146500          0\n",
              "13  0.189500          1\n",
              "14 -0.280500          0"
            ],
            "text/html": [
              "\n",
              "  <div id=\"df-a9270baa-f65a-4fd6-b767-84beebbfccc1\">\n",
              "    <div class=\"colab-df-container\">\n",
              "      <div>\n",
              "<style scoped>\n",
              "    .dataframe tbody tr th:only-of-type {\n",
              "        vertical-align: middle;\n",
              "    }\n",
              "\n",
              "    .dataframe tbody tr th {\n",
              "        vertical-align: top;\n",
              "    }\n",
              "\n",
              "    .dataframe thead th {\n",
              "        text-align: right;\n",
              "    }\n",
              "</style>\n",
              "<table border=\"1\" class=\"dataframe\">\n",
              "  <thead>\n",
              "    <tr style=\"text-align: right;\">\n",
              "      <th></th>\n",
              "      <th>Media</th>\n",
              "      <th>Categoria</th>\n",
              "    </tr>\n",
              "  </thead>\n",
              "  <tbody>\n",
              "    <tr>\n",
              "      <th>0</th>\n",
              "      <td>0.254500</td>\n",
              "      <td>1</td>\n",
              "    </tr>\n",
              "    <tr>\n",
              "      <th>1</th>\n",
              "      <td>-0.213000</td>\n",
              "      <td>0</td>\n",
              "    </tr>\n",
              "    <tr>\n",
              "      <th>2</th>\n",
              "      <td>-0.106351</td>\n",
              "      <td>0</td>\n",
              "    </tr>\n",
              "    <tr>\n",
              "      <th>3</th>\n",
              "      <td>0.275500</td>\n",
              "      <td>1</td>\n",
              "    </tr>\n",
              "    <tr>\n",
              "      <th>4</th>\n",
              "      <td>-0.197500</td>\n",
              "      <td>0</td>\n",
              "    </tr>\n",
              "    <tr>\n",
              "      <th>5</th>\n",
              "      <td>-0.097895</td>\n",
              "      <td>0</td>\n",
              "    </tr>\n",
              "    <tr>\n",
              "      <th>6</th>\n",
              "      <td>0.301000</td>\n",
              "      <td>1</td>\n",
              "    </tr>\n",
              "    <tr>\n",
              "      <th>7</th>\n",
              "      <td>-0.207000</td>\n",
              "      <td>0</td>\n",
              "    </tr>\n",
              "    <tr>\n",
              "      <th>8</th>\n",
              "      <td>-0.118784</td>\n",
              "      <td>0</td>\n",
              "    </tr>\n",
              "    <tr>\n",
              "      <th>9</th>\n",
              "      <td>0.253500</td>\n",
              "      <td>1</td>\n",
              "    </tr>\n",
              "    <tr>\n",
              "      <th>10</th>\n",
              "      <td>-0.244500</td>\n",
              "      <td>0</td>\n",
              "    </tr>\n",
              "    <tr>\n",
              "      <th>11</th>\n",
              "      <td>-0.189500</td>\n",
              "      <td>0</td>\n",
              "    </tr>\n",
              "    <tr>\n",
              "      <th>12</th>\n",
              "      <td>-0.146500</td>\n",
              "      <td>0</td>\n",
              "    </tr>\n",
              "    <tr>\n",
              "      <th>13</th>\n",
              "      <td>0.189500</td>\n",
              "      <td>1</td>\n",
              "    </tr>\n",
              "    <tr>\n",
              "      <th>14</th>\n",
              "      <td>-0.280500</td>\n",
              "      <td>0</td>\n",
              "    </tr>\n",
              "  </tbody>\n",
              "</table>\n",
              "</div>\n",
              "      <button class=\"colab-df-convert\" onclick=\"convertToInteractive('df-a9270baa-f65a-4fd6-b767-84beebbfccc1')\"\n",
              "              title=\"Convert this dataframe to an interactive table.\"\n",
              "              style=\"display:none;\">\n",
              "        \n",
              "  <svg xmlns=\"http://www.w3.org/2000/svg\" height=\"24px\"viewBox=\"0 0 24 24\"\n",
              "       width=\"24px\">\n",
              "    <path d=\"M0 0h24v24H0V0z\" fill=\"none\"/>\n",
              "    <path d=\"M18.56 5.44l.94 2.06.94-2.06 2.06-.94-2.06-.94-.94-2.06-.94 2.06-2.06.94zm-11 1L8.5 8.5l.94-2.06 2.06-.94-2.06-.94L8.5 2.5l-.94 2.06-2.06.94zm10 10l.94 2.06.94-2.06 2.06-.94-2.06-.94-.94-2.06-.94 2.06-2.06.94z\"/><path d=\"M17.41 7.96l-1.37-1.37c-.4-.4-.92-.59-1.43-.59-.52 0-1.04.2-1.43.59L10.3 9.45l-7.72 7.72c-.78.78-.78 2.05 0 2.83L4 21.41c.39.39.9.59 1.41.59.51 0 1.02-.2 1.41-.59l7.78-7.78 2.81-2.81c.8-.78.8-2.07 0-2.86zM5.41 20L4 18.59l7.72-7.72 1.47 1.35L5.41 20z\"/>\n",
              "  </svg>\n",
              "      </button>\n",
              "      \n",
              "  <style>\n",
              "    .colab-df-container {\n",
              "      display:flex;\n",
              "      flex-wrap:wrap;\n",
              "      gap: 12px;\n",
              "    }\n",
              "\n",
              "    .colab-df-convert {\n",
              "      background-color: #E8F0FE;\n",
              "      border: none;\n",
              "      border-radius: 50%;\n",
              "      cursor: pointer;\n",
              "      display: none;\n",
              "      fill: #1967D2;\n",
              "      height: 32px;\n",
              "      padding: 0 0 0 0;\n",
              "      width: 32px;\n",
              "    }\n",
              "\n",
              "    .colab-df-convert:hover {\n",
              "      background-color: #E2EBFA;\n",
              "      box-shadow: 0px 1px 2px rgba(60, 64, 67, 0.3), 0px 1px 3px 1px rgba(60, 64, 67, 0.15);\n",
              "      fill: #174EA6;\n",
              "    }\n",
              "\n",
              "    [theme=dark] .colab-df-convert {\n",
              "      background-color: #3B4455;\n",
              "      fill: #D2E3FC;\n",
              "    }\n",
              "\n",
              "    [theme=dark] .colab-df-convert:hover {\n",
              "      background-color: #434B5C;\n",
              "      box-shadow: 0px 1px 3px 1px rgba(0, 0, 0, 0.15);\n",
              "      filter: drop-shadow(0px 1px 2px rgba(0, 0, 0, 0.3));\n",
              "      fill: #FFFFFF;\n",
              "    }\n",
              "  </style>\n",
              "\n",
              "      <script>\n",
              "        const buttonEl =\n",
              "          document.querySelector('#df-a9270baa-f65a-4fd6-b767-84beebbfccc1 button.colab-df-convert');\n",
              "        buttonEl.style.display =\n",
              "          google.colab.kernel.accessAllowed ? 'block' : 'none';\n",
              "\n",
              "        async function convertToInteractive(key) {\n",
              "          const element = document.querySelector('#df-a9270baa-f65a-4fd6-b767-84beebbfccc1');\n",
              "          const dataTable =\n",
              "            await google.colab.kernel.invokeFunction('convertToInteractive',\n",
              "                                                     [key], {});\n",
              "          if (!dataTable) return;\n",
              "\n",
              "          const docLinkHtml = 'Like what you see? Visit the ' +\n",
              "            '<a target=\"_blank\" href=https://colab.research.google.com/notebooks/data_table.ipynb>data table notebook</a>'\n",
              "            + ' to learn more about interactive tables.';\n",
              "          element.innerHTML = '';\n",
              "          dataTable['output_type'] = 'display_data';\n",
              "          await google.colab.output.renderOutput(dataTable, element);\n",
              "          const docLink = document.createElement('div');\n",
              "          docLink.innerHTML = docLinkHtml;\n",
              "          element.appendChild(docLink);\n",
              "        }\n",
              "      </script>\n",
              "    </div>\n",
              "  </div>\n",
              "  "
            ]
          },
          "metadata": {},
          "execution_count": 12
        }
      ]
    },
    {
      "cell_type": "markdown",
      "source": [
        "Del registro del DF, se hace un análisis de la cantidad de datos mapeados de 0 y 1, con esto se evidencia que existen un conjunto de datos mas grande que son considerados no latidos a los que son latidos."
      ],
      "metadata": {
        "id": "HQg3h64-xF3F"
      }
    },
    {
      "cell_type": "code",
      "source": [
        "df['Categoria'].value_counts()"
      ],
      "metadata": {
        "id": "ltGDiVUom8jj",
        "colab": {
          "base_uri": "https://localhost:8080/"
        },
        "outputId": "c643fb76-3085-4df8-bf08-c22b19587891"
      },
      "execution_count": 13,
      "outputs": [
        {
          "output_type": "execute_result",
          "data": {
            "text/plain": [
              "0    360735\n",
              "1    100953\n",
              "Name: Categoria, dtype: int64"
            ]
          },
          "metadata": {},
          "execution_count": 13
        }
      ]
    },
    {
      "cell_type": "code",
      "source": [
        "sns.countplot(df['Categoria'], palette='hls')"
      ],
      "metadata": {
        "id": "PFMMgf-qmsXt",
        "colab": {
          "base_uri": "https://localhost:8080/",
          "height": 351
        },
        "outputId": "f44b778e-296f-49af-c682-f7f5d4f0650f"
      },
      "execution_count": 14,
      "outputs": [
        {
          "output_type": "stream",
          "name": "stderr",
          "text": [
            "/usr/local/lib/python3.7/dist-packages/seaborn/_decorators.py:43: FutureWarning: Pass the following variable as a keyword arg: x. From version 0.12, the only valid positional argument will be `data`, and passing other arguments without an explicit keyword will result in an error or misinterpretation.\n",
            "  FutureWarning\n"
          ]
        },
        {
          "output_type": "execute_result",
          "data": {
            "text/plain": [
              "<matplotlib.axes._subplots.AxesSubplot at 0x7fc48a144090>"
            ]
          },
          "metadata": {},
          "execution_count": 14
        },
        {
          "output_type": "display_data",
          "data": {
            "text/plain": [
              "<Figure size 432x288 with 1 Axes>"
            ],
            "image/png": "[encoded data removed]"
          },
          "metadata": {
            "needs_background": "light"
          }
        }
      ]
    },
    {
      "cell_type": "markdown",
      "source": [
        "De acuerdo a el análisis se puede inferir que existe un desbalanceo de datos, y que el modelo probablemente tienda a reconocer a los registros como no latidos. Se hace un grafico de correlaión para analizar el conjunto de datos"
      ],
      "metadata": {
        "id": "Ik9EBp8P9gfQ"
      }
    },
    {
      "cell_type": "code",
      "source": [
        "plt.figure(figsize=(20,20))\n",
        "sns.heatmap(df.corr(), annot=True)"
      ],
      "metadata": {
        "id": "NR_4kGBwnkv2",
        "colab": {
          "base_uri": "https://localhost:8080/",
          "height": 701
        },
        "outputId": "78d3e8a2-6a14-44fc-c891-9015baa1d7e8"
      },
      "execution_count": 15,
      "outputs": [
        {
          "output_type": "execute_result",
          "data": {
            "text/plain": [
              "<matplotlib.axes._subplots.AxesSubplot at 0x7fc48a525a10>"
            ]
          },
          "metadata": {},
          "execution_count": 15
        },
        {
          "output_type": "display_data",
          "data": {
            "text/plain": [
              "<Figure size 1440x1440 with 2 Axes>"
            ],
            "image/png": "[encoded data removed]"
          },
          "metadata": {
            "needs_background": "light"
          }
        }
      ]
    },
    {
      "cell_type": "markdown",
      "source": [
        "Se hace una función con la que se esperar mostrar una matrix de confusión con los resultados del modelo. "
      ],
      "metadata": {
        "id": "RZD2fAQM9zJz"
      }
    },
    {
      "cell_type": "code",
      "source": [
        "def mostrar_resultados(y_test, pred_y):\n",
        "    conf_matrix = confusion_matrix(y_test, pred_y)\n",
        "    plt.figure(figsize=(12, 12))\n",
        "    sns.heatmap(conf_matrix, annot=True, fmt=\"d\");\n",
        "    plt.title(\"Confusion matrix\")\n",
        "    plt.ylabel('True class')\n",
        "    plt.xlabel('Predicted class')\n",
        "    plt.show()\n",
        "    print (classification_report(y_test, pred_y))"
      ],
      "metadata": {
        "id": "xm5xmLIIiHm1"
      },
      "execution_count": 16,
      "outputs": []
    },
    {
      "cell_type": "markdown",
      "source": [
        "# **LIMPIEZA DE ATIPICOS**\n",
        "\n",
        "Finalmente se hace una copia de la data, y se hace una limipieza de atipicos, porque segun el análisis la distancia de algunos latidos no es la misma, y para el modelo eso puede significar que la predicción puede verse afectada por ese sesgo"
      ],
      "metadata": {
        "id": "5lQMPeRb-gM8"
      }
    },
    {
      "cell_type": "code",
      "source": [
        "data = df.copy()"
      ],
      "metadata": {
        "id": "MP_xRQBA919Y"
      },
      "execution_count": 22,
      "outputs": []
    },
    {
      "cell_type": "code",
      "source": [
        "def IdentificarAtipicos(df, ft, valor):\n",
        "    q1 = df[ft].quantile(0.25)\n",
        "    q3 = df[ft].quantile(0.75)\n",
        "    iqr = q3 - q1\n",
        "    \n",
        "    limite_inferior = q1 - valor * iqr\n",
        "    limite_superior = q3 + valor * iqr\n",
        "    \n",
        "    ls = df.index[(df[ft]<limite_inferior) | (df[ft] > limite_superior)]\n",
        "    return ls\n",
        "\n",
        "def eliminar(df, index):\n",
        "    index = sorted(set(index))\n",
        "    df = df.drop(index)\n",
        "    return df\n",
        "\n",
        "aux = ['Media','Varianza','Desviación-Est','Pendiente','Kurtosis','Asimetria']\n",
        "valor_alpha = 1.5\n",
        "index_list = []\n",
        "for i in aux:\n",
        "  index_list.extend(IdentificarAtipicos(data, i,valor_alpha))\n",
        "\n",
        "df_index = pd.DataFrame(index_list,columns = [\"indices\"])\n",
        "df_index.duplicated().sum()\n",
        "df_index = df_index.drop_duplicates()\n",
        "final_index_list = df_index[\"indices\"]\n",
        "data = eliminar(data,final_index_list)\n",
        "data"
      ],
      "metadata": {
        "colab": {
          "base_uri": "https://localhost:8080/",
          "height": 505
        },
        "id": "E9ieudU29rph",
        "outputId": "bd47b89c-6007-4af1-88cf-f7c261e202d8"
      },
      "execution_count": 23,
      "outputs": [
        {
          "output_type": "execute_result",
          "data": {
            "text/plain": [
              "           Media  Varianza  Desviación-Est  Pendiente  Kurtosis  Asimetria  \\\n",
              "1      -0.213000  0.004396        0.066302   0.016923 -1.028796  -0.463465   \n",
              "2      -0.106351  0.002531        0.050305   0.007742  2.068057   1.383953   \n",
              "4      -0.197500  0.005069        0.071195   0.015000 -1.137250  -0.265244   \n",
              "5      -0.097895  0.002300        0.047953   0.008966  2.574750   1.076495   \n",
              "7      -0.207000  0.005536        0.074404   0.021818 -1.115850  -0.431840   \n",
              "...          ...       ...             ...        ...       ...        ...   \n",
              "463278 -0.267000  0.000096        0.009798   0.008000 -0.140625   0.089304   \n",
              "463279 -0.243000  0.000926        0.030430   0.009286  1.756369   1.491780   \n",
              "463281 -0.242500  0.010039        0.100194   0.017778 -1.188133   0.322965   \n",
              "463282 -0.136000  0.011929        0.109220  -0.022308 -1.739297   0.050648   \n",
              "463284 -0.208000  0.000201        0.014177   0.005455 -0.274894   0.117909   \n",
              "\n",
              "        Categoria  \n",
              "1               0  \n",
              "2               0  \n",
              "4               0  \n",
              "5               0  \n",
              "7               0  \n",
              "...           ...  \n",
              "463278          0  \n",
              "463279          0  \n",
              "463281          0  \n",
              "463282          0  \n",
              "463284          0  \n",
              "\n",
              "[335119 rows x 7 columns]"
            ],
            "text/html": [
              "\n",
              "  <div id=\"df-9bf082f9-3769-4d7c-bdfc-4ac95b525169\">\n",
              "    <div class=\"colab-df-container\">\n",
              "      <div>\n",
              "<style scoped>\n",
              "    .dataframe tbody tr th:only-of-type {\n",
              "        vertical-align: middle;\n",
              "    }\n",
              "\n",
              "    .dataframe tbody tr th {\n",
              "        vertical-align: top;\n",
              "    }\n",
              "\n",
              "    .dataframe thead th {\n",
              "        text-align: right;\n",
              "    }\n",
              "</style>\n",
              "<table border=\"1\" class=\"dataframe\">\n",
              "  <thead>\n",
              "    <tr style=\"text-align: right;\">\n",
              "      <th></th>\n",
              "      <th>Media</th>\n",
              "      <th>Varianza</th>\n",
              "      <th>Desviación-Est</th>\n",
              "      <th>Pendiente</th>\n",
              "      <th>Kurtosis</th>\n",
              "      <th>Asimetria</th>\n",
              "      <th>Categoria</th>\n",
              "    </tr>\n",
              "  </thead>\n",
              "  <tbody>\n",
              "    <tr>\n",
              "      <th>1</th>\n",
              "      <td>-0.213000</td>\n",
              "      <td>0.004396</td>\n",
              "      <td>0.066302</td>\n",
              "      <td>0.016923</td>\n",
              "      <td>-1.028796</td>\n",
              "      <td>-0.463465</td>\n",
              "      <td>0</td>\n",
              "    </tr>\n",
              "    <tr>\n",
              "      <th>2</th>\n",
              "      <td>-0.106351</td>\n",
              "      <td>0.002531</td>\n",
              "      <td>0.050305</td>\n",
              "      <td>0.007742</td>\n",
              "      <td>2.068057</td>\n",
              "      <td>1.383953</td>\n",
              "      <td>0</td>\n",
              "    </tr>\n",
              "    <tr>\n",
              "      <th>4</th>\n",
              "      <td>-0.197500</td>\n",
              "      <td>0.005069</td>\n",
              "      <td>0.071195</td>\n",
              "      <td>0.015000</td>\n",
              "      <td>-1.137250</td>\n",
              "      <td>-0.265244</td>\n",
              "      <td>0</td>\n",
              "    </tr>\n",
              "    <tr>\n",
              "      <th>5</th>\n",
              "      <td>-0.097895</td>\n",
              "      <td>0.002300</td>\n",
              "      <td>0.047953</td>\n",
              "      <td>0.008966</td>\n",
              "      <td>2.574750</td>\n",
              "      <td>1.076495</td>\n",
              "      <td>0</td>\n",
              "    </tr>\n",
              "    <tr>\n",
              "      <th>7</th>\n",
              "      <td>-0.207000</td>\n",
              "      <td>0.005536</td>\n",
              "      <td>0.074404</td>\n",
              "      <td>0.021818</td>\n",
              "      <td>-1.115850</td>\n",
              "      <td>-0.431840</td>\n",
              "      <td>0</td>\n",
              "    </tr>\n",
              "    <tr>\n",
              "      <th>...</th>\n",
              "      <td>...</td>\n",
              "      <td>...</td>\n",
              "      <td>...</td>\n",
              "      <td>...</td>\n",
              "      <td>...</td>\n",
              "      <td>...</td>\n",
              "      <td>...</td>\n",
              "    </tr>\n",
              "    <tr>\n",
              "      <th>463278</th>\n",
              "      <td>-0.267000</td>\n",
              "      <td>0.000096</td>\n",
              "      <td>0.009798</td>\n",
              "      <td>0.008000</td>\n",
              "      <td>-0.140625</td>\n",
              "      <td>0.089304</td>\n",
              "      <td>0</td>\n",
              "    </tr>\n",
              "    <tr>\n",
              "      <th>463279</th>\n",
              "      <td>-0.243000</td>\n",
              "      <td>0.000926</td>\n",
              "      <td>0.030430</td>\n",
              "      <td>0.009286</td>\n",
              "      <td>1.756369</td>\n",
              "      <td>1.491780</td>\n",
              "      <td>0</td>\n",
              "    </tr>\n",
              "    <tr>\n",
              "      <th>463281</th>\n",
              "      <td>-0.242500</td>\n",
              "      <td>0.010039</td>\n",
              "      <td>0.100194</td>\n",
              "      <td>0.017778</td>\n",
              "      <td>-1.188133</td>\n",
              "      <td>0.322965</td>\n",
              "      <td>0</td>\n",
              "    </tr>\n",
              "    <tr>\n",
              "      <th>463282</th>\n",
              "      <td>-0.136000</td>\n",
              "      <td>0.011929</td>\n",
              "      <td>0.109220</td>\n",
              "      <td>-0.022308</td>\n",
              "      <td>-1.739297</td>\n",
              "      <td>0.050648</td>\n",
              "      <td>0</td>\n",
              "    </tr>\n",
              "    <tr>\n",
              "      <th>463284</th>\n",
              "      <td>-0.208000</td>\n",
              "      <td>0.000201</td>\n",
              "      <td>0.014177</td>\n",
              "      <td>0.005455</td>\n",
              "      <td>-0.274894</td>\n",
              "      <td>0.117909</td>\n",
              "      <td>0</td>\n",
              "    </tr>\n",
              "  </tbody>\n",
              "</table>\n",
              "<p>335119 rows × 7 columns</p>\n",
              "</div>\n",
              "      <button class=\"colab-df-convert\" onclick=\"convertToInteractive('df-9bf082f9-3769-4d7c-bdfc-4ac95b525169')\"\n",
              "              title=\"Convert this dataframe to an interactive table.\"\n",
              "              style=\"display:none;\">\n",
              "        \n",
              "  <svg xmlns=\"http://www.w3.org/2000/svg\" height=\"24px\"viewBox=\"0 0 24 24\"\n",
              "       width=\"24px\">\n",
              "    <path d=\"M0 0h24v24H0V0z\" fill=\"none\"/>\n",
              "    <path d=\"M18.56 5.44l.94 2.06.94-2.06 2.06-.94-2.06-.94-.94-2.06-.94 2.06-2.06.94zm-11 1L8.5 8.5l.94-2.06 2.06-.94-2.06-.94L8.5 2.5l-.94 2.06-2.06.94zm10 10l.94 2.06.94-2.06 2.06-.94-2.06-.94-.94-2.06-.94 2.06-2.06.94z\"/><path d=\"M17.41 7.96l-1.37-1.37c-.4-.4-.92-.59-1.43-.59-.52 0-1.04.2-1.43.59L10.3 9.45l-7.72 7.72c-.78.78-.78 2.05 0 2.83L4 21.41c.39.39.9.59 1.41.59.51 0 1.02-.2 1.41-.59l7.78-7.78 2.81-2.81c.8-.78.8-2.07 0-2.86zM5.41 20L4 18.59l7.72-7.72 1.47 1.35L5.41 20z\"/>\n",
              "  </svg>\n",
              "      </button>\n",
              "      \n",
              "  <style>\n",
              "    .colab-df-container {\n",
              "      display:flex;\n",
              "      flex-wrap:wrap;\n",
              "      gap: 12px;\n",
              "    }\n",
              "\n",
              "    .colab-df-convert {\n",
              "      background-color: #E8F0FE;\n",
              "      border: none;\n",
              "      border-radius: 50%;\n",
              "      cursor: pointer;\n",
              "      display: none;\n",
              "      fill: #1967D2;\n",
              "      height: 32px;\n",
              "      padding: 0 0 0 0;\n",
              "      width: 32px;\n",
              "    }\n",
              "\n",
              "    .colab-df-convert:hover {\n",
              "      background-color: #E2EBFA;\n",
              "      box-shadow: 0px 1px 2px rgba(60, 64, 67, 0.3), 0px 1px 3px 1px rgba(60, 64, 67, 0.15);\n",
              "      fill: #174EA6;\n",
              "    }\n",
              "\n",
              "    [theme=dark] .colab-df-convert {\n",
              "      background-color: #3B4455;\n",
              "      fill: #D2E3FC;\n",
              "    }\n",
              "\n",
              "    [theme=dark] .colab-df-convert:hover {\n",
              "      background-color: #434B5C;\n",
              "      box-shadow: 0px 1px 3px 1px rgba(0, 0, 0, 0.15);\n",
              "      filter: drop-shadow(0px 1px 2px rgba(0, 0, 0, 0.3));\n",
              "      fill: #FFFFFF;\n",
              "    }\n",
              "  </style>\n",
              "\n",
              "      <script>\n",
              "        const buttonEl =\n",
              "          document.querySelector('#df-9bf082f9-3769-4d7c-bdfc-4ac95b525169 button.colab-df-convert');\n",
              "        buttonEl.style.display =\n",
              "          google.colab.kernel.accessAllowed ? 'block' : 'none';\n",
              "\n",
              "        async function convertToInteractive(key) {\n",
              "          const element = document.querySelector('#df-9bf082f9-3769-4d7c-bdfc-4ac95b525169');\n",
              "          const dataTable =\n",
              "            await google.colab.kernel.invokeFunction('convertToInteractive',\n",
              "                                                     [key], {});\n",
              "          if (!dataTable) return;\n",
              "\n",
              "          const docLinkHtml = 'Like what you see? Visit the ' +\n",
              "            '<a target=\"_blank\" href=https://colab.research.google.com/notebooks/data_table.ipynb>data table notebook</a>'\n",
              "            + ' to learn more about interactive tables.';\n",
              "          element.innerHTML = '';\n",
              "          dataTable['output_type'] = 'display_data';\n",
              "          await google.colab.output.renderOutput(dataTable, element);\n",
              "          const docLink = document.createElement('div');\n",
              "          docLink.innerHTML = docLinkHtml;\n",
              "          element.appendChild(docLink);\n",
              "        }\n",
              "      </script>\n",
              "    </div>\n",
              "  </div>\n",
              "  "
            ]
          },
          "metadata": {},
          "execution_count": 23
        }
      ]
    },
    {
      "cell_type": "markdown",
      "source": [
        "**RED NEURONAL SIN CONFIGURACIÓN DE HIPERPARAMETROS**"
      ],
      "metadata": {
        "id": "26bO4aeGlR07"
      }
    },
    {
      "cell_type": "markdown",
      "source": [
        "Para en análisis se hace una red neuronal sin heperparametros para estudiar la presición del modelo."
      ],
      "metadata": {
        "id": "RY_jpY_nEzCq"
      }
    },
    {
      "cell_type": "code",
      "source": [
        "x = df[['Media','Varianza','Desviación-Est','Pendiente','Kurtosis','Asimetria']]\n",
        "y = df['Categoria']"
      ],
      "metadata": {
        "id": "h-CmSFu5oBLc"
      },
      "execution_count": 27,
      "outputs": []
    },
    {
      "cell_type": "markdown",
      "source": [
        "Se hace una división de los datos, para definir los de entrenamiento y para los de testeo"
      ],
      "metadata": {
        "id": "rmYPng6YFNhI"
      }
    },
    {
      "cell_type": "code",
      "source": [
        "X_train, X_test, y_train, y_test = train_test_split(x, y, stratify=y,\n",
        "                                                    train_size=0.3,random_state=0)\n",
        " \n",
        "print(len(X_train))\n",
        "print(len(y_test))"
      ],
      "metadata": {
        "id": "PsBnwetyocLr",
        "colab": {
          "base_uri": "https://localhost:8080/"
        },
        "outputId": "a3db5933-8020-41be-cc23-9fd82580c5cc"
      },
      "execution_count": 28,
      "outputs": [
        {
          "output_type": "stream",
          "name": "stdout",
          "text": [
            "138506\n",
            "323182\n"
          ]
        }
      ]
    },
    {
      "cell_type": "code",
      "source": [
        "clf = MLPClassifier().fit(X_train,y_train)"
      ],
      "metadata": {
        "id": "GyLxtpJDjRmF"
      },
      "execution_count": 29,
      "outputs": []
    },
    {
      "cell_type": "code",
      "source": [
        "test_modelo = clf.predict(X_test)\n",
        "print(\"F1 score: \", f1_score(y_test, test_modelo))"
      ],
      "metadata": {
        "id": "tAf_cP_-jzfV",
        "colab": {
          "base_uri": "https://localhost:8080/"
        },
        "outputId": "0c680942-7b2c-458d-9d23-27c5548f9549"
      },
      "execution_count": 30,
      "outputs": [
        {
          "output_type": "stream",
          "name": "stdout",
          "text": [
            "F1 score:  0.997844613661179\n"
          ]
        }
      ]
    },
    {
      "cell_type": "markdown",
      "source": [
        "De acuerdo al score el modelo tiene 0.99 de precisión, pero de acuerdo al desbalanceo, la presición calculo puede deberse a que se necesita mirar como realiza las predicciónes, por ende se hace una matrix de confusión."
      ],
      "metadata": {
        "id": "WjWCQNsQI5X0"
      }
    },
    {
      "cell_type": "code",
      "source": [
        "mostrar_resultados(y_test,test_modelo)"
      ],
      "metadata": {
        "id": "6bS20sV6kbbJ",
        "colab": {
          "base_uri": "https://localhost:8080/",
          "height": 821
        },
        "outputId": "6645fb22-4b5c-4fd5-edc3-bf9bd91cb0d3"
      },
      "execution_count": 31,
      "outputs": [
        {
          "output_type": "display_data",
          "data": {
            "text/plain": [
              "<Figure size 864x864 with 2 Axes>"
            ],
            "image/png": "[encoded data removed]"
          },
          "metadata": {
            "needs_background": "light"
          }
        },
        {
          "output_type": "stream",
          "name": "stdout",
          "text": [
            "              precision    recall  f1-score   support\n",
            "\n",
            "           0       1.00      1.00      1.00    252515\n",
            "           1       1.00      1.00      1.00     70667\n",
            "\n",
            "    accuracy                           1.00    323182\n",
            "   macro avg       1.00      1.00      1.00    323182\n",
            "weighted avg       1.00      1.00      1.00    323182\n",
            "\n"
          ]
        }
      ]
    },
    {
      "cell_type": "markdown",
      "source": [
        "De acuerdo al análisis, se puede evidenciar de que se usan 70667 registros de latidos, pero solo afirma que 70000 registros son latidos, teniendo en cuenta que siempre va tender a identificar lo que no es latido"
      ],
      "metadata": {
        "id": "gUNuzZnPJ-yo"
      }
    },
    {
      "cell_type": "markdown",
      "source": [
        "**RED NEURONAL CONFIGURACIÓN DE HIPERPARAMETROS**"
      ],
      "metadata": {
        "id": "pm-Y4TfwF8zj"
      }
    },
    {
      "cell_type": "code",
      "source": [
        "from sklearn.model_selection import GridSearchCV\n",
        "from sklearn.model_selection import RandomizedSearchCV"
      ],
      "metadata": {
        "id": "Cy7-b6riliM5"
      },
      "execution_count": 32,
      "outputs": []
    },
    {
      "cell_type": "code",
      "source": [
        "X_train, X_test_1, y_train, y_test_1 = train_test_split(x, y, stratify=y,\n",
        "                                                    train_size=0.3,random_state=0)\n",
        " \n",
        "print(len(X_train))\n",
        "print(len(y_test_1))"
      ],
      "metadata": {
        "id": "Z1tdZp7SFmB7",
        "colab": {
          "base_uri": "https://localhost:8080/"
        },
        "outputId": "b765f548-6b1a-4957-cfaa-e6241090e098"
      },
      "execution_count": 33,
      "outputs": [
        {
          "output_type": "stream",
          "name": "stdout",
          "text": [
            "138506\n",
            "323182\n"
          ]
        }
      ]
    },
    {
      "cell_type": "markdown",
      "source": [
        "Se hace una configuración usando, el RandomizedSearch, se busca los parametros ideales de acuerdo a un conjunto de datos que a la investigación se pusieron"
      ],
      "metadata": {
        "id": "iZ1j63ZUOtj3"
      }
    },
    {
      "cell_type": "code",
      "source": [
        "mlp_gs = MLPClassifier()\n",
        "parameters = {\n",
        "    'hidden_layer_sizes':[(100,),(50,50,20),(20,),(200,),(100,100)],\n",
        "    'activation':['logistic', 'tanh', 'relu'],\n",
        "    'max_iter':np.arange(200,900,50),\n",
        "    'learning_rate_init':np.arange(0.001,0.005,0.001),\n",
        "    'tol':np.arange(0.001,0.005,0.001)\n",
        "}\n"
      ],
      "metadata": {
        "id": "HYtBA70uiaRS"
      },
      "execution_count": 34,
      "outputs": []
    },
    {
      "cell_type": "markdown",
      "source": [
        "El entrenamiento se hace de acuerdo a la modificación de esos parametros y se evalua la precisión del modelo"
      ],
      "metadata": {
        "id": "67dW0igfPKrg"
      }
    },
    {
      "cell_type": "code",
      "source": [
        "clf_RDSCV = RandomizedSearchCV(mlp_gs, parameters, cv = 5, n_iter = 5)"
      ],
      "metadata": {
        "id": "YbFm4s8JCYqI"
      },
      "execution_count": 35,
      "outputs": []
    },
    {
      "cell_type": "code",
      "source": [
        "clf_RDSCV.fit(X_train,y_train)"
      ],
      "metadata": {
        "id": "7TmRV5W8Cs1y",
        "colab": {
          "base_uri": "https://localhost:8080/"
        },
        "outputId": "651861b4-1614-4f86-d609-77f9ec60f794"
      },
      "execution_count": 36,
      "outputs": [
        {
          "output_type": "execute_result",
          "data": {
            "text/plain": [
              "RandomizedSearchCV(cv=5, estimator=MLPClassifier(), n_iter=5,\n",
              "                   param_distributions={'activation': ['logistic', 'tanh',\n",
              "                                                       'relu'],\n",
              "                                        'hidden_layer_sizes': [(100,),\n",
              "                                                               (50, 50, 20),\n",
              "                                                               (20,), (200,),\n",
              "                                                               (100, 100)],\n",
              "                                        'learning_rate_init': array([0.001, 0.002, 0.003, 0.004]),\n",
              "                                        'max_iter': array([200, 250, 300, 350, 400, 450, 500, 550, 600, 650, 700, 750, 800,\n",
              "       850]),\n",
              "                                        'tol': array([0.001, 0.002, 0.003, 0.004])})"
            ]
          },
          "metadata": {},
          "execution_count": 36
        }
      ]
    },
    {
      "cell_type": "code",
      "source": [
        "print(clf_RDSCV.best_params_)\n",
        "print(clf_RDSCV.best_score_)"
      ],
      "metadata": {
        "id": "sVNClJ-bEtMm",
        "colab": {
          "base_uri": "https://localhost:8080/"
        },
        "outputId": "a25abe2b-7f6e-46ba-8e28-4aea1eb9f935"
      },
      "execution_count": 37,
      "outputs": [
        {
          "output_type": "stream",
          "name": "stdout",
          "text": [
            "{'tol': 0.002, 'max_iter': 300, 'learning_rate_init': 0.002, 'hidden_layer_sizes': (50, 50, 20), 'activation': 'relu'}\n",
            "0.9990541920245727\n"
          ]
        }
      ]
    },
    {
      "cell_type": "code",
      "source": [
        "test_modelo_RDSCV = clf_RDSCV.predict(X_test_1)\n",
        "print(test_modelo)\n",
        "print(\"F1 score: \", f1_score(y_test_1, test_modelo_RDSCV))"
      ],
      "metadata": {
        "id": "sYIDEZ5DFDvK",
        "colab": {
          "base_uri": "https://localhost:8080/"
        },
        "outputId": "30ebb053-ac39-4da6-d64e-be259b6837bc"
      },
      "execution_count": 38,
      "outputs": [
        {
          "output_type": "stream",
          "name": "stdout",
          "text": [
            "[1 0 0 ... 1 1 1]\n",
            "F1 score:  0.9977595008508225\n"
          ]
        }
      ]
    },
    {
      "cell_type": "markdown",
      "source": [
        "De acuerdo a las pruebas realizadas el modelo tiene un score del 0.99, se hace una matrix de confusión para analizar el detalle de la misma"
      ],
      "metadata": {
        "id": "JcZUJaCkPW7D"
      }
    },
    {
      "cell_type": "code",
      "source": [
        "mostrar_resultados(y_test_1,test_modelo_RDSCV)"
      ],
      "metadata": {
        "id": "xMafQlVdFdkj",
        "colab": {
          "base_uri": "https://localhost:8080/",
          "height": 821
        },
        "outputId": "c31064af-6999-4e37-a271-709bfc08c898"
      },
      "execution_count": 39,
      "outputs": [
        {
          "output_type": "display_data",
          "data": {
            "text/plain": [
              "<Figure size 864x864 with 2 Axes>"
            ],
            "image/png": "[encoded data removed]"
          },
          "metadata": {
            "needs_background": "light"
          }
        },
        {
          "output_type": "stream",
          "name": "stdout",
          "text": [
            "              precision    recall  f1-score   support\n",
            "\n",
            "           0       1.00      1.00      1.00    252515\n",
            "           1       1.00      1.00      1.00     70667\n",
            "\n",
            "    accuracy                           1.00    323182\n",
            "   macro avg       1.00      1.00      1.00    323182\n",
            "weighted avg       1.00      1.00      1.00    323182\n",
            "\n"
          ]
        }
      ]
    },
    {
      "cell_type": "markdown",
      "source": [
        "Se un análisis y se determina que la precisión se debe que existen mas registros que no son latidos por ende, el desbalance tiene que ver con el score del modelo, y se puede inferir que no es preciso el modelo"
      ],
      "metadata": {
        "id": "zrkFQjUERSVm"
      }
    },
    {
      "cell_type": "markdown",
      "source": [
        "**VENTANA DESLIZANTE**  \n",
        "El análisis de la señal dada por el modelo se hace a partir del conjunto de datos de la señal 16539\n",
        "\n"
      ],
      "metadata": {
        "id": "pprFS7XjRSfh"
      }
    },
    {
      "cell_type": "code",
      "source": [
        "registro_prueba = wfdb.rdrecord(\"database/16539\")\n",
        "wfdb.plot_wfdb(registro_prueba)"
      ],
      "metadata": {
        "colab": {
          "base_uri": "https://localhost:8080/",
          "height": 295
        },
        "id": "1Eyxhg7CCME-",
        "outputId": "78f35069-e2a1-4ef5-8c97-4a528c37977a"
      },
      "execution_count": 40,
      "outputs": [
        {
          "output_type": "display_data",
          "data": {
            "text/plain": [
              "<Figure size 432x288 with 2 Axes>"
            ],
            "image/png": "[encoded data removed]"
          },
          "metadata": {
            "needs_background": "light"
          }
        }
      ]
    },
    {
      "cell_type": "code",
      "source": [
        "señal = registro_prueba.p_signal\n",
        "prueba = señal[:,0]\n",
        "len(prueba)"
      ],
      "metadata": {
        "colab": {
          "base_uri": "https://localhost:8080/"
        },
        "id": "PhTNgtMuE9Uc",
        "outputId": "6f267a51-7b52-4f2c-ab65-424bcc6c24f2"
      },
      "execution_count": 42,
      "outputs": [
        {
          "output_type": "execute_result",
          "data": {
            "text/plain": [
              "11327488"
            ]
          },
          "metadata": {},
          "execution_count": 42
        }
      ]
    },
    {
      "cell_type": "code",
      "source": [
        "inicio = 0\n",
        "final = 17\n",
        "\n",
        "datos = []\n",
        "\n",
        "\n",
        "while(final != 10999):\n",
        "\n",
        "  #print(final)\n",
        "\n",
        "  temp = prueba[inicio:final]\n",
        "\n",
        "  med = np.mean(temp)\n",
        "  var = np.var(temp)\n",
        "  des = np.std(temp)\n",
        "  pen = pendiente(temp)\n",
        "  kur = stats.kurtosis(temp)\n",
        "  asi = stats.skew(temp)\n",
        "\n",
        "  x = [med,var,des,pen,kur,asi]\n",
        "  datos.append(x)\n",
        " \n",
        "  inicio+=17\n",
        "  final +=17\n",
        "   \n",
        "\n",
        "print(len(datos))"
      ],
      "metadata": {
        "id": "ry_715zP0DOi",
        "colab": {
          "base_uri": "https://localhost:8080/"
        },
        "outputId": "dd2a70a4-9085-4ce9-c344-b37ceca17285"
      },
      "execution_count": 53,
      "outputs": [
        {
          "output_type": "stream",
          "name": "stdout",
          "text": [
            "646\n"
          ]
        }
      ]
    },
    {
      "cell_type": "code",
      "source": [
        "data_prueba = pd.DataFrame(datos, columns=['Media','Varianza','Desviación-Est','Pendiente','Kurtosis','Asimetria'])\n",
        "data_prueba"
      ],
      "metadata": {
        "id": "5HEdLIcW0lsw",
        "colab": {
          "base_uri": "https://localhost:8080/",
          "height": 424
        },
        "outputId": "89b2b328-5516-4677-e56b-910c1769a209"
      },
      "execution_count": 54,
      "outputs": [
        {
          "output_type": "execute_result",
          "data": {
            "text/plain": [
              "        Media  Varianza  Desviación-Est  Pendiente  Kurtosis  Asimetria\n",
              "0   -0.036176  0.008916        0.094426   0.019333 -1.317087   0.144137\n",
              "1   -0.060294  0.007931        0.089055  -0.017857 -0.791924   0.913392\n",
              "2   -0.132059  0.001268        0.035606   0.032500  0.738004   1.243634\n",
              "3   -0.193235  0.001262        0.035519  -0.024000  1.605739   1.697827\n",
              "4   -0.021471  0.331235        0.575530  -0.686667  1.733794   1.720907\n",
              "..        ...       ...             ...        ...       ...        ...\n",
              "641 -0.083824  0.008881        0.094239   0.047500 -0.228698   0.296258\n",
              "642 -0.090294  0.022060        0.148527   0.053846  5.781661   2.220457\n",
              "643  0.066765  0.219803        0.468831  -0.626667  3.070790   2.009395\n",
              "644  0.077941  0.015280        0.123611   0.034615 -0.833988  -0.330425\n",
              "645  0.115588  0.013982        0.118246  -0.041818 -0.605424   0.203924\n",
              "\n",
              "[646 rows x 6 columns]"
            ],
            "text/html": [
              "\n",
              "  <div id=\"df-dedc1fc6-5900-40c4-9f84-5310b18e59b4\">\n",
              "    <div class=\"colab-df-container\">\n",
              "      <div>\n",
              "<style scoped>\n",
              "    .dataframe tbody tr th:only-of-type {\n",
              "        vertical-align: middle;\n",
              "    }\n",
              "\n",
              "    .dataframe tbody tr th {\n",
              "        vertical-align: top;\n",
              "    }\n",
              "\n",
              "    .dataframe thead th {\n",
              "        text-align: right;\n",
              "    }\n",
              "</style>\n",
              "<table border=\"1\" class=\"dataframe\">\n",
              "  <thead>\n",
              "    <tr style=\"text-align: right;\">\n",
              "      <th></th>\n",
              "      <th>Media</th>\n",
              "      <th>Varianza</th>\n",
              "      <th>Desviación-Est</th>\n",
              "      <th>Pendiente</th>\n",
              "      <th>Kurtosis</th>\n",
              "      <th>Asimetria</th>\n",
              "    </tr>\n",
              "  </thead>\n",
              "  <tbody>\n",
              "    <tr>\n",
              "      <th>0</th>\n",
              "      <td>-0.036176</td>\n",
              "      <td>0.008916</td>\n",
              "      <td>0.094426</td>\n",
              "      <td>0.019333</td>\n",
              "      <td>-1.317087</td>\n",
              "      <td>0.144137</td>\n",
              "    </tr>\n",
              "    <tr>\n",
              "      <th>1</th>\n",
              "      <td>-0.060294</td>\n",
              "      <td>0.007931</td>\n",
              "      <td>0.089055</td>\n",
              "      <td>-0.017857</td>\n",
              "      <td>-0.791924</td>\n",
              "      <td>0.913392</td>\n",
              "    </tr>\n",
              "    <tr>\n",
              "      <th>2</th>\n",
              "      <td>-0.132059</td>\n",
              "      <td>0.001268</td>\n",
              "      <td>0.035606</td>\n",
              "      <td>0.032500</td>\n",
              "      <td>0.738004</td>\n",
              "      <td>1.243634</td>\n",
              "    </tr>\n",
              "    <tr>\n",
              "      <th>3</th>\n",
              "      <td>-0.193235</td>\n",
              "      <td>0.001262</td>\n",
              "      <td>0.035519</td>\n",
              "      <td>-0.024000</td>\n",
              "      <td>1.605739</td>\n",
              "      <td>1.697827</td>\n",
              "    </tr>\n",
              "    <tr>\n",
              "      <th>4</th>\n",
              "      <td>-0.021471</td>\n",
              "      <td>0.331235</td>\n",
              "      <td>0.575530</td>\n",
              "      <td>-0.686667</td>\n",
              "      <td>1.733794</td>\n",
              "      <td>1.720907</td>\n",
              "    </tr>\n",
              "    <tr>\n",
              "      <th>...</th>\n",
              "      <td>...</td>\n",
              "      <td>...</td>\n",
              "      <td>...</td>\n",
              "      <td>...</td>\n",
              "      <td>...</td>\n",
              "      <td>...</td>\n",
              "    </tr>\n",
              "    <tr>\n",
              "      <th>641</th>\n",
              "      <td>-0.083824</td>\n",
              "      <td>0.008881</td>\n",
              "      <td>0.094239</td>\n",
              "      <td>0.047500</td>\n",
              "      <td>-0.228698</td>\n",
              "      <td>0.296258</td>\n",
              "    </tr>\n",
              "    <tr>\n",
              "      <th>642</th>\n",
              "      <td>-0.090294</td>\n",
              "      <td>0.022060</td>\n",
              "      <td>0.148527</td>\n",
              "      <td>0.053846</td>\n",
              "      <td>5.781661</td>\n",
              "      <td>2.220457</td>\n",
              "    </tr>\n",
              "    <tr>\n",
              "      <th>643</th>\n",
              "      <td>0.066765</td>\n",
              "      <td>0.219803</td>\n",
              "      <td>0.468831</td>\n",
              "      <td>-0.626667</td>\n",
              "      <td>3.070790</td>\n",
              "      <td>2.009395</td>\n",
              "    </tr>\n",
              "    <tr>\n",
              "      <th>644</th>\n",
              "      <td>0.077941</td>\n",
              "      <td>0.015280</td>\n",
              "      <td>0.123611</td>\n",
              "      <td>0.034615</td>\n",
              "      <td>-0.833988</td>\n",
              "      <td>-0.330425</td>\n",
              "    </tr>\n",
              "    <tr>\n",
              "      <th>645</th>\n",
              "      <td>0.115588</td>\n",
              "      <td>0.013982</td>\n",
              "      <td>0.118246</td>\n",
              "      <td>-0.041818</td>\n",
              "      <td>-0.605424</td>\n",
              "      <td>0.203924</td>\n",
              "    </tr>\n",
              "  </tbody>\n",
              "</table>\n",
              "<p>646 rows × 6 columns</p>\n",
              "</div>\n",
              "      <button class=\"colab-df-convert\" onclick=\"convertToInteractive('df-dedc1fc6-5900-40c4-9f84-5310b18e59b4')\"\n",
              "              title=\"Convert this dataframe to an interactive table.\"\n",
              "              style=\"display:none;\">\n",
              "        \n",
              "  <svg xmlns=\"http://www.w3.org/2000/svg\" height=\"24px\"viewBox=\"0 0 24 24\"\n",
              "       width=\"24px\">\n",
              "    <path d=\"M0 0h24v24H0V0z\" fill=\"none\"/>\n",
              "    <path d=\"M18.56 5.44l.94 2.06.94-2.06 2.06-.94-2.06-.94-.94-2.06-.94 2.06-2.06.94zm-11 1L8.5 8.5l.94-2.06 2.06-.94-2.06-.94L8.5 2.5l-.94 2.06-2.06.94zm10 10l.94 2.06.94-2.06 2.06-.94-2.06-.94-.94-2.06-.94 2.06-2.06.94z\"/><path d=\"M17.41 7.96l-1.37-1.37c-.4-.4-.92-.59-1.43-.59-.52 0-1.04.2-1.43.59L10.3 9.45l-7.72 7.72c-.78.78-.78 2.05 0 2.83L4 21.41c.39.39.9.59 1.41.59.51 0 1.02-.2 1.41-.59l7.78-7.78 2.81-2.81c.8-.78.8-2.07 0-2.86zM5.41 20L4 18.59l7.72-7.72 1.47 1.35L5.41 20z\"/>\n",
              "  </svg>\n",
              "      </button>\n",
              "      \n",
              "  <style>\n",
              "    .colab-df-container {\n",
              "      display:flex;\n",
              "      flex-wrap:wrap;\n",
              "      gap: 12px;\n",
              "    }\n",
              "\n",
              "    .colab-df-convert {\n",
              "      background-color: #E8F0FE;\n",
              "      border: none;\n",
              "      border-radius: 50%;\n",
              "      cursor: pointer;\n",
              "      display: none;\n",
              "      fill: #1967D2;\n",
              "      height: 32px;\n",
              "      padding: 0 0 0 0;\n",
              "      width: 32px;\n",
              "    }\n",
              "\n",
              "    .colab-df-convert:hover {\n",
              "      background-color: #E2EBFA;\n",
              "      box-shadow: 0px 1px 2px rgba(60, 64, 67, 0.3), 0px 1px 3px 1px rgba(60, 64, 67, 0.15);\n",
              "      fill: #174EA6;\n",
              "    }\n",
              "\n",
              "    [theme=dark] .colab-df-convert {\n",
              "      background-color: #3B4455;\n",
              "      fill: #D2E3FC;\n",
              "    }\n",
              "\n",
              "    [theme=dark] .colab-df-convert:hover {\n",
              "      background-color: #434B5C;\n",
              "      box-shadow: 0px 1px 3px 1px rgba(0, 0, 0, 0.15);\n",
              "      filter: drop-shadow(0px 1px 2px rgba(0, 0, 0, 0.3));\n",
              "      fill: #FFFFFF;\n",
              "    }\n",
              "  </style>\n",
              "\n",
              "      <script>\n",
              "        const buttonEl =\n",
              "          document.querySelector('#df-dedc1fc6-5900-40c4-9f84-5310b18e59b4 button.colab-df-convert');\n",
              "        buttonEl.style.display =\n",
              "          google.colab.kernel.accessAllowed ? 'block' : 'none';\n",
              "\n",
              "        async function convertToInteractive(key) {\n",
              "          const element = document.querySelector('#df-dedc1fc6-5900-40c4-9f84-5310b18e59b4');\n",
              "          const dataTable =\n",
              "            await google.colab.kernel.invokeFunction('convertToInteractive',\n",
              "                                                     [key], {});\n",
              "          if (!dataTable) return;\n",
              "\n",
              "          const docLinkHtml = 'Like what you see? Visit the ' +\n",
              "            '<a target=\"_blank\" href=https://colab.research.google.com/notebooks/data_table.ipynb>data table notebook</a>'\n",
              "            + ' to learn more about interactive tables.';\n",
              "          element.innerHTML = '';\n",
              "          dataTable['output_type'] = 'display_data';\n",
              "          await google.colab.output.renderOutput(dataTable, element);\n",
              "          const docLink = document.createElement('div');\n",
              "          docLink.innerHTML = docLinkHtml;\n",
              "          element.appendChild(docLink);\n",
              "        }\n",
              "      </script>\n",
              "    </div>\n",
              "  </div>\n",
              "  "
            ]
          },
          "metadata": {},
          "execution_count": 54
        }
      ]
    },
    {
      "cell_type": "code",
      "source": [
        "test = data_prueba[['Media','Varianza','Desviación-Est','Pendiente','Kurtosis','Asimetria']]\n",
        "prediccion = clf_RDSCV.predict(test)\n",
        "data_prueba['Categoria'] = prediccion\n",
        "plt.plot(prediccion[:100])\n"
      ],
      "metadata": {
        "colab": {
          "base_uri": "https://localhost:8080/",
          "height": 282
        },
        "id": "iDZbIDBnLCTb",
        "outputId": "c21be9d4-adf1-4b4b-e5b0-f40ce41f77d6"
      },
      "execution_count": 61,
      "outputs": [
        {
          "output_type": "execute_result",
          "data": {
            "text/plain": [
              "[<matplotlib.lines.Line2D at 0x7fc47c579b10>]"
            ]
          },
          "metadata": {},
          "execution_count": 61
        },
        {
          "output_type": "display_data",
          "data": {
            "text/plain": [
              "<Figure size 432x288 with 1 Axes>"
            ],
            "image/png": "[encoded data removed]"
          },
          "metadata": {
            "needs_background": "light"
          }
        }
      ]
    },
    {
      "cell_type": "code",
      "source": [
        "prediccion[:100]"
      ],
      "metadata": {
        "colab": {
          "base_uri": "https://localhost:8080/"
        },
        "id": "XXwlVbGLL1Az",
        "outputId": "98976754-4183-4361-9c17-53cb178c7035"
      },
      "execution_count": 65,
      "outputs": [
        {
          "output_type": "execute_result",
          "data": {
            "text/plain": [
              "array([0, 0, 0, 0, 1, 0, 0, 0, 0, 1, 0, 0, 0, 0, 0, 1, 0, 0, 0, 0, 0, 1,\n",
              "       0, 0, 0, 0, 1, 0, 0, 0, 0, 1, 0, 0, 0, 0, 0, 1, 0, 0, 0, 0, 0, 1,\n",
              "       0, 0, 0, 0, 0, 0, 1, 0, 0, 0, 0, 0, 0, 1, 0, 0, 0, 0, 1, 0, 0, 0,\n",
              "       0, 1, 1, 0, 0, 0, 0, 1, 0, 0, 0, 0, 0, 1, 0, 0, 0, 0, 0, 1, 0, 0,\n",
              "       0, 0, 0, 1, 0, 0, 0, 0, 0, 0, 1, 0])"
            ]
          },
          "metadata": {},
          "execution_count": 65
        }
      ]
    },
    {
      "cell_type": "code",
      "source": [
        "plt.plot(prueba[:500])"
      ],
      "metadata": {
        "colab": {
          "base_uri": "https://localhost:8080/",
          "height": 282
        },
        "id": "e2dGVY1DLmtN",
        "outputId": "81ad412e-3f3e-40e0-cf75-9dc7ca8abc76"
      },
      "execution_count": 63,
      "outputs": [
        {
          "output_type": "execute_result",
          "data": {
            "text/plain": [
              "[<matplotlib.lines.Line2D at 0x7fc47bd1bc90>]"
            ]
          },
          "metadata": {},
          "execution_count": 63
        },
        {
          "output_type": "display_data",
          "data": {
            "text/plain": [
              "<Figure size 432x288 with 1 Axes>"
            ],
            "image/png": "[encoded data removed]"
          },
          "metadata": {
            "needs_background": "light"
          }
        }
      ]
    },
    {
      "cell_type": "markdown",
      "source": [
        "**¿Problemas puedes observar usando únicamente la grafica?**\n",
        "\n",
        "\n",
        "Que no se hace la simulación de la señal como si fueran latidos, es decir la grafica afirma mas entradas de latidos, y no parece una señal de electrocardiogama.\n",
        "\n",
        "\n",
        "**¿Por que se puede deber eso?**\n",
        "\n",
        "Puede deberse al desbalance de clases, entonces la presición con que hace la predicción no es acertada o puede deberse a que el dataset contiene mas latidos de los que debe de tener, esto se puede ver en el análisis del registro porque la distancia de un latido a otro no es la misma.\n",
        "\n",
        "**Mencione una estrategia que puedas utilizar o implementar para mejorarlo**\n",
        "\n",
        "Para el desbalanceo se puede usar metodos de sobremuestro para que el modelo clasifique con mejor precision, sin embargo se debe de realizar una análisis del dataset, para revisar toda la señal, en caso de que existan datos de latidos irregulares, deberia de existir una categoria que lo identifique."
      ],
      "metadata": {
        "id": "U8gfsNYPxXLr"
      }
    }
  ]
}